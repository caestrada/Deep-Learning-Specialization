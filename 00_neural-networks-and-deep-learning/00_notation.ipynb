{
 "cells": [
  {
   "cell_type": "markdown",
   "metadata": {},
   "source": [
    "# Notation"
   ]
  },
  {
   "cell_type": "markdown",
   "id": "98e3dec4",
   "metadata": {},
   "source": [
    "$$\n",
    "\\mathbf{X} = \\left[ \\begin{array}{ccc}\n",
    "\\vdots & \\vdots &  & \\vdots \\\\\n",
    "x^{(1)} & x^{(2)} & \\cdots & x^{(n)} \\\\\n",
    "\\vdots & \\vdots &  & \\vdots \\\\\n",
    "\\end{array} \\right]\n",
    "\\left. \\begin{array}{c}\n",
    "\\\\\n",
    "\\\\\n",
    "\\\\\n",
    "\\end{array} \\right\\} n_x\n",
    "$$\n",
    "\n",
    "$$\n",
    "\\begin{array}{c}\n",
    "\\\\\n",
    "\\end{array}\n",
    "\\hspace{-1em} % Adjust the -2em value to your preference\n",
    "\\underbrace{\\hspace{7em}}_{m}\n",
    "$$\n",
    "\n",
    "$\\mathbf{X}$ is a set of feature vectors.\n",
    "\n",
    "- $\\mathbf{X} \\in \\mathbb{R}^{n_{x} \\times m}$\n",
    "- ```\n",
    "    # python\n",
    "    X.shape = (n_x, m)\n",
    "  ```\n",
    "\n",
    "$n_{x}$ represents the dimensions of an input feature. In a picture example, it represents each pixel of an image.\n",
    "\n",
    "$m$ denotes the number of training examples. In our case, the number of pictures."
   ]
  },
  {
   "cell_type": "markdown",
   "metadata": {},
   "source": [
    "\n",
    "\n",
    "$$\\mathbf{Y} = [y^{(1)}, y^{(2)}, \\dots, y^{(m)}]$$\n",
    "\n",
    "How about the output **label**?\n",
    "\n",
    "$\\mathbf{Y}$ are the lables and in our example it represents wether the picture in the index is a `1 (cat)` or `0 (non cat)`\n",
    "\n",
    "- $\\mathbf{Y} \\in \\mathbb{R}^{1 \\times m}$\n",
    "- ```\n",
    "    # python\n",
    "    X.shape = (1, m)\n",
    "  ```"
   ]
  },
  {
   "cell_type": "markdown",
   "metadata": {},
   "source": [
    "In binary classification, the goal is to develop a model that takes an input, often represented as a feature vector $x$, and predicts a binary output $y$. This output typically represents two classes or categories, commonly labeled as `1` or `0`."
   ]
  }
 ],
 "metadata": {
  "kernelspec": {
   "display_name": "Python 3 (ipykernel)",
   "language": "python",
   "name": "python3"
  },
  "language_info": {
   "codemirror_mode": {
    "name": "ipython",
    "version": 3
   },
   "file_extension": ".py",
   "mimetype": "text/x-python",
   "name": "python",
   "nbconvert_exporter": "python",
   "pygments_lexer": "ipython3",
   "version": "3.11.5"
  }
 },
 "nbformat": 4,
 "nbformat_minor": 5
}
